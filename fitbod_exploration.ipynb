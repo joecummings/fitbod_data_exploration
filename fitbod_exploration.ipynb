{
 "cells": [
  {
   "cell_type": "markdown",
   "id": "3a3575aa",
   "metadata": {},
   "source": [
    "## Fitbod Data Exploration\n",
    "\n",
    "### Table of contents\n",
    "a. [Load Data](http://localhost:8888/notebooks/Fitbod%20Exploration.ipynb#Load-Data)\n",
    "\n",
    "b. [Initial Exploration & Data Cleaning](http://localhost:8888/notebooks/Fitbod%20Exploration.ipynb#Initial-Exploration-&-Data-Cleaning)\n",
    "\n",
    "c. [Exploratory Data Analysis](http://localhost:8888/notebooks/Fitbod%20Exploration.ipynb#Initial-Exploration-&-Data-Cleaning)\n",
    "    \n",
    "    1. Workout data\n",
    "    2. User data\n",
    "    3. Modeling\n",
    "\n",
    "d. [Personal data]()"
   ]
  },
  {
   "cell_type": "markdown",
   "id": "7564823f",
   "metadata": {},
   "source": [
    "### Import libraries"
   ]
  },
  {
   "cell_type": "code",
   "execution_count": 113,
   "id": "d43d41a5",
   "metadata": {},
   "outputs": [],
   "source": [
    "# Imports\n",
    "import pandas as pd\n",
    "import numpy as np\n",
    "from collections import Counter, defaultdict\n",
    "import matplotlib.pyplot as plt\n",
    "from itertools import combinations, permutations\n",
    "import seaborn as sns"
   ]
  },
  {
   "cell_type": "markdown",
   "id": "af80bdce",
   "metadata": {},
   "source": [
    "### Load Data"
   ]
  },
  {
   "cell_type": "code",
   "execution_count": 114,
   "id": "a6296619",
   "metadata": {},
   "outputs": [
    {
     "data": {
      "text/html": [
       "<div>\n",
       "<style scoped>\n",
       "    .dataframe tbody tr th:only-of-type {\n",
       "        vertical-align: middle;\n",
       "    }\n",
       "\n",
       "    .dataframe tbody tr th {\n",
       "        vertical-align: top;\n",
       "    }\n",
       "\n",
       "    .dataframe thead th {\n",
       "        text-align: right;\n",
       "    }\n",
       "</style>\n",
       "<table border=\"1\" class=\"dataframe\">\n",
       "  <thead>\n",
       "    <tr style=\"text-align: right;\">\n",
       "      <th></th>\n",
       "      <th>Date</th>\n",
       "      <th>workoutId</th>\n",
       "      <th>exerciseId</th>\n",
       "      <th>singleSetId</th>\n",
       "      <th>exerciseName</th>\n",
       "      <th>reps</th>\n",
       "      <th>weight</th>\n",
       "      <th>fake_user_id</th>\n",
       "    </tr>\n",
       "  </thead>\n",
       "  <tbody>\n",
       "    <tr>\n",
       "      <th>0</th>\n",
       "      <td>2021-03-07</td>\n",
       "      <td>Zg7ThO2Lv4</td>\n",
       "      <td>BTmBzxhAmZ</td>\n",
       "      <td>X5lF8xYXM5</td>\n",
       "      <td>Dumbbell Pullover</td>\n",
       "      <td>10</td>\n",
       "      <td>11.339823</td>\n",
       "      <td>fake_id_589</td>\n",
       "    </tr>\n",
       "    <tr>\n",
       "      <th>1</th>\n",
       "      <td>2021-04-01</td>\n",
       "      <td>DxxwhjbCGh</td>\n",
       "      <td>9VAkz3bNl4</td>\n",
       "      <td>MfilQC2kV0</td>\n",
       "      <td>Decline Push Up</td>\n",
       "      <td>15</td>\n",
       "      <td>0.000000</td>\n",
       "      <td>fake_id_545</td>\n",
       "    </tr>\n",
       "    <tr>\n",
       "      <th>2</th>\n",
       "      <td>2021-01-20</td>\n",
       "      <td>51rYwkwYlC</td>\n",
       "      <td>djuvlRHUvb</td>\n",
       "      <td>6Dkb9htFdu</td>\n",
       "      <td>Dumbbell Rear Delt Raise</td>\n",
       "      <td>9</td>\n",
       "      <td>13.607787</td>\n",
       "      <td>fake_id_559</td>\n",
       "    </tr>\n",
       "    <tr>\n",
       "      <th>3</th>\n",
       "      <td>2021-07-27</td>\n",
       "      <td>7BtpdMyeEi</td>\n",
       "      <td>DhkjvJNsNR</td>\n",
       "      <td>q3NKUngw7p</td>\n",
       "      <td>Sit Up</td>\n",
       "      <td>12</td>\n",
       "      <td>0.000000</td>\n",
       "      <td>fake_id_590</td>\n",
       "    </tr>\n",
       "    <tr>\n",
       "      <th>4</th>\n",
       "      <td>2021-11-03</td>\n",
       "      <td>X7WUFkJacr</td>\n",
       "      <td>otjt26R0oL</td>\n",
       "      <td>HA41FpHtp9</td>\n",
       "      <td>Barbell Shoulder Press</td>\n",
       "      <td>4</td>\n",
       "      <td>38.555397</td>\n",
       "      <td>fake_id_552</td>\n",
       "    </tr>\n",
       "  </tbody>\n",
       "</table>\n",
       "</div>"
      ],
      "text/plain": [
       "         Date   workoutId  exerciseId singleSetId              exerciseName  \\\n",
       "0  2021-03-07  Zg7ThO2Lv4  BTmBzxhAmZ  X5lF8xYXM5         Dumbbell Pullover   \n",
       "1  2021-04-01  DxxwhjbCGh  9VAkz3bNl4  MfilQC2kV0           Decline Push Up   \n",
       "2  2021-01-20  51rYwkwYlC  djuvlRHUvb  6Dkb9htFdu  Dumbbell Rear Delt Raise   \n",
       "3  2021-07-27  7BtpdMyeEi  DhkjvJNsNR  q3NKUngw7p                    Sit Up   \n",
       "4  2021-11-03  X7WUFkJacr  otjt26R0oL  HA41FpHtp9    Barbell Shoulder Press   \n",
       "\n",
       "   reps     weight fake_user_id  \n",
       "0    10  11.339823  fake_id_589  \n",
       "1    15   0.000000  fake_id_545  \n",
       "2     9  13.607787  fake_id_559  \n",
       "3    12   0.000000  fake_id_590  \n",
       "4     4  38.555397  fake_id_552  "
      ]
     },
     "execution_count": 114,
     "metadata": {},
     "output_type": "execute_result"
    }
   ],
   "source": [
    "fitbod_data = pd.read_csv(\"fitbod_Joe_Cummings_20211217-105218.csv\")\n",
    "fitbod_data.head()"
   ]
  },
  {
   "cell_type": "markdown",
   "id": "57ec2a8f",
   "metadata": {},
   "source": [
    "***\n",
    "### Initial Exploration & Data Cleaning"
   ]
  },
  {
   "cell_type": "markdown",
   "id": "cc8c2099",
   "metadata": {},
   "source": [
    "#### The column names are a mix of camel-case, pascal-case, and snake-case. Nothing *explicitly* wrong with that, but it looks messy and could lead to confusion."
   ]
  },
  {
   "cell_type": "code",
   "execution_count": 115,
   "id": "26f22401",
   "metadata": {},
   "outputs": [],
   "source": [
    "fitbod_data = fitbod_data.rename(columns={\"Date\": \"date\", \"fake_user_id\": \"fakeUserId\"})"
   ]
  },
  {
   "cell_type": "markdown",
   "id": "a2533b58",
   "metadata": {},
   "source": [
    "#### Examine the datatypes"
   ]
  },
  {
   "cell_type": "code",
   "execution_count": 116,
   "id": "c2b59863",
   "metadata": {},
   "outputs": [
    {
     "data": {
      "text/plain": [
       "date             object\n",
       "workoutId        object\n",
       "exerciseId       object\n",
       "singleSetId      object\n",
       "exerciseName     object\n",
       "reps              int64\n",
       "weight          float64\n",
       "fakeUserId       object\n",
       "dtype: object"
      ]
     },
     "execution_count": 116,
     "metadata": {},
     "output_type": "execute_result"
    }
   ],
   "source": [
    "fitbod_data.dtypes"
   ]
  },
  {
   "cell_type": "markdown",
   "id": "b78dcaa4",
   "metadata": {},
   "source": [
    "#### Working with 'date' as an object might be tricky..."
   ]
  },
  {
   "cell_type": "code",
   "execution_count": 117,
   "id": "123aaadd",
   "metadata": {},
   "outputs": [],
   "source": [
    "fitbod_data.date = fitbod_data.date.astype(\"datetime64\")"
   ]
  },
  {
   "cell_type": "markdown",
   "id": "8767ec3e",
   "metadata": {},
   "source": [
    "#### Are we missing any values?"
   ]
  },
  {
   "cell_type": "code",
   "execution_count": 268,
   "id": "db81dc87",
   "metadata": {},
   "outputs": [
    {
     "data": {
      "text/plain": [
       "False"
      ]
     },
     "execution_count": 268,
     "metadata": {},
     "output_type": "execute_result"
    }
   ],
   "source": [
    "fitbod_data.isnull().values.any()"
   ]
  },
  {
   "cell_type": "markdown",
   "id": "834c7c3c",
   "metadata": {},
   "source": [
    "#### Let's see how many samples there are in this dataset"
   ]
  },
  {
   "cell_type": "code",
   "execution_count": 118,
   "id": "bebc78f8",
   "metadata": {},
   "outputs": [
    {
     "data": {
      "text/plain": [
       "(31426, 8)"
      ]
     },
     "execution_count": 118,
     "metadata": {},
     "output_type": "execute_result"
    }
   ],
   "source": [
    "fitbod_data.shape"
   ]
  },
  {
   "cell_type": "markdown",
   "id": "40bc4780",
   "metadata": {},
   "source": [
    "#### Examine the distribution of the numerical variables"
   ]
  },
  {
   "cell_type": "code",
   "execution_count": 119,
   "id": "9555ff72",
   "metadata": {},
   "outputs": [
    {
     "data": {
      "text/html": [
       "<div>\n",
       "<style scoped>\n",
       "    .dataframe tbody tr th:only-of-type {\n",
       "        vertical-align: middle;\n",
       "    }\n",
       "\n",
       "    .dataframe tbody tr th {\n",
       "        vertical-align: top;\n",
       "    }\n",
       "\n",
       "    .dataframe thead th {\n",
       "        text-align: right;\n",
       "    }\n",
       "</style>\n",
       "<table border=\"1\" class=\"dataframe\">\n",
       "  <thead>\n",
       "    <tr style=\"text-align: right;\">\n",
       "      <th></th>\n",
       "      <th>reps</th>\n",
       "      <th>weight</th>\n",
       "    </tr>\n",
       "  </thead>\n",
       "  <tbody>\n",
       "    <tr>\n",
       "      <th>count</th>\n",
       "      <td>31426.000000</td>\n",
       "      <td>31426.000000</td>\n",
       "    </tr>\n",
       "    <tr>\n",
       "      <th>mean</th>\n",
       "      <td>11.360020</td>\n",
       "      <td>24.209276</td>\n",
       "    </tr>\n",
       "    <tr>\n",
       "      <th>std</th>\n",
       "      <td>7.507842</td>\n",
       "      <td>29.603537</td>\n",
       "    </tr>\n",
       "    <tr>\n",
       "      <th>min</th>\n",
       "      <td>0.000000</td>\n",
       "      <td>0.000000</td>\n",
       "    </tr>\n",
       "    <tr>\n",
       "      <th>25%</th>\n",
       "      <td>8.000000</td>\n",
       "      <td>0.000000</td>\n",
       "    </tr>\n",
       "    <tr>\n",
       "      <th>50%</th>\n",
       "      <td>10.000000</td>\n",
       "      <td>11.339823</td>\n",
       "    </tr>\n",
       "    <tr>\n",
       "      <th>75%</th>\n",
       "      <td>13.000000</td>\n",
       "      <td>38.555397</td>\n",
       "    </tr>\n",
       "    <tr>\n",
       "      <th>max</th>\n",
       "      <td>99.000000</td>\n",
       "      <td>195.000000</td>\n",
       "    </tr>\n",
       "  </tbody>\n",
       "</table>\n",
       "</div>"
      ],
      "text/plain": [
       "               reps        weight\n",
       "count  31426.000000  31426.000000\n",
       "mean      11.360020     24.209276\n",
       "std        7.507842     29.603537\n",
       "min        0.000000      0.000000\n",
       "25%        8.000000      0.000000\n",
       "50%       10.000000     11.339823\n",
       "75%       13.000000     38.555397\n",
       "max       99.000000    195.000000"
      ]
     },
     "execution_count": 119,
     "metadata": {},
     "output_type": "execute_result"
    }
   ],
   "source": [
    "fitbod_data.describe()"
   ]
  },
  {
   "cell_type": "markdown",
   "id": "d6800fbc",
   "metadata": {},
   "source": [
    "This is interesting as an overview, but reps and weight can be exceptionally specific to a given exercise so we can't draw any concrete conclusions from this distribution. \n",
    "\n",
    "Assumption 1: The unit of measurement for 'weight' is kilogram. The reasoning is that when I exported my own data (see later in the analysis), the weight is output in kilograms."
   ]
  },
  {
   "cell_type": "markdown",
   "id": "6a800807",
   "metadata": {},
   "source": [
    "***\n",
    "### Exploratory Data Analysis"
   ]
  },
  {
   "cell_type": "markdown",
   "id": "995a07eb",
   "metadata": {},
   "source": [
    "### 1. Workout data"
   ]
  },
  {
   "cell_type": "markdown",
   "id": "733c781b",
   "metadata": {},
   "source": [
    "#### When were most of the workouts logged?"
   ]
  },
  {
   "cell_type": "code",
   "execution_count": 141,
   "id": "3ea0af38",
   "metadata": {},
   "outputs": [
    {
     "data": {
      "image/png": "[encoded data removed]",
      "text/plain": [
       "<Figure size 432x288 with 1 Axes>"
      ]
     },
     "metadata": {
      "needs_background": "light"
     },
     "output_type": "display_data"
    }
   ],
   "source": [
    "# Add a column just for month\n",
    "fitbod_data[\"month\"] = fitbod_data.date.dt.month\n",
    "\n",
    "# Groupby workoutId first so we don't count each individual exercise as a workout\n",
    "fbm = fitbod_data[[\"workoutId\", \"month\", \"fakeUserId\"]].groupby(by=\"workoutId\").first().reset_index()\n",
    "\n",
    "# Get value counts of month\n",
    "fbm_m = fbm.groupby(by=\"month\").size()\n",
    "fbm_m.plot(kind=\"bar\")\n",
    "plt.xlabel(\"Month\")\n",
    "plt.ylabel(\"Number of Workouts\")\n",
    "plt.title(\"Number of Workouts vs. Month\")\n",
    "plt.show()"
   ]
  },
  {
   "cell_type": "markdown",
   "id": "ed10ea9b",
   "metadata": {},
   "source": [
    "The most workouts logged were in July! A bonus is that we can see that the least workouts were logged in December. Potential follow up questions: Are there any internal variables that could explain this dip? Did we have a high amount of churn in November? Did the app go down for a period of time? New feature released? "
   ]
  },
  {
   "cell_type": "markdown",
   "id": "51aa3535",
   "metadata": {},
   "source": [
    "#### In which month did the most users log workouts?"
   ]
  },
  {
   "cell_type": "code",
   "execution_count": 144,
   "id": "987923f0",
   "metadata": {},
   "outputs": [
    {
     "data": {
      "image/png": "[encoded data removed]",
      "text/plain": [
       "<Figure size 432x288 with 1 Axes>"
      ]
     },
     "metadata": {
      "needs_background": "light"
     },
     "output_type": "display_data"
    }
   ],
   "source": [
    "# We want to group the workouts by user\n",
    "fbm_u = fbm.groupby(by=\"fakeUserId\").first()\n",
    "\n",
    "# Then, group by month and take the count\n",
    "fbm_um = fbm_u.groupby(by=\"month\").count()\n",
    "fbm_um.plot(kind=\"bar\", legend=None)\n",
    "plt.xlabel(\"Month\")\n",
    "plt.ylabel(\"Number of Distinct Users\")\n",
    "plt.title(\"Number of Distinct Users vs. Month\")\n",
    "plt.show()"
   ]
  },
  {
   "cell_type": "markdown",
   "id": "88bd7e14",
   "metadata": {},
   "source": [
    "The most distinct users logged workouts in January. From an external standpoint, this makes sense as oftentimes people will make \"New Year's Resolutions\" to exercise more. There appears to even be a cycle wherein there is a drop-off in users logging workouts every 3-4 months."
   ]
  },
  {
   "cell_type": "markdown",
   "id": "b75a92f4",
   "metadata": {},
   "source": [
    "#### What is the distribution of exercises in each workout?"
   ]
  },
  {
   "cell_type": "code",
   "execution_count": 271,
   "id": "05cc1b9d",
   "metadata": {},
   "outputs": [
    {
     "data": {
      "image/png": "[encoded data removed]",
      "text/plain": [
       "<Figure size 432x288 with 1 Axes>"
      ]
     },
     "metadata": {
      "needs_background": "light"
     },
     "output_type": "display_data"
    },
    {
     "name": "stdout",
     "output_type": "stream",
     "text": [
      "0.5067972810875649\n"
     ]
    }
   ],
   "source": [
    "# Get all unique excercises per workout\n",
    "def get_unique_exercises_per_workout(df, workout_column, exercise_column):\n",
    "    all_workouts = set(df[workout_column])\n",
    "    workouts_to_exercises = {}\n",
    "    for workout in all_workouts:\n",
    "        workout_information = df.loc[df[workout_column] == workout]\n",
    "        workouts_to_exercises[workout] = set(workout_information[exercise_column])\n",
    "    return workouts_to_exercises\n",
    "\n",
    "workouts_to_exercises = get_unique_exercises_per_workout(fitbod_data, \"workoutId\", \"exerciseName\")\n",
    "\n",
    "# Get distribution of number of exercises per workout\n",
    "counts = defaultdict(int)\n",
    "for exercises in workouts_to_exercises.values():\n",
    "    counts[len(exercises)] += 1\n",
    "\n",
    "plt.bar(counts.keys(), counts.values())\n",
    "plt.xlabel(\"Number of Exercises Per Workout\")\n",
    "plt.ylabel(\"Number of Workouts\")\n",
    "plt.title(\"Number of Workouts vs. Number of Exercises Per Workout\")\n",
    "plt.show()\n",
    "\n",
    "print(counts[1]/sum(counts.values()))"
   ]
  },
  {
   "cell_type": "markdown",
   "id": "96a97d9f",
   "metadata": {},
   "source": [
    "It would appear that most workouts (over 50%!) consist of only one exercise. Since this doesn't align with how I personally imagine the app to be used, I would want to dig deeper into this data to determine why people are doing so many 1-exercise workouts."
   ]
  },
  {
   "cell_type": "markdown",
   "id": "4da91a6e",
   "metadata": {},
   "source": [
    "#### How many users have logged a workout consisting of only one exercise?"
   ]
  },
  {
   "cell_type": "code",
   "execution_count": 85,
   "id": "228b68c8",
   "metadata": {},
   "outputs": [
    {
     "data": {
      "text/plain": [
       "0.9863013698630136"
      ]
     },
     "execution_count": 85,
     "metadata": {},
     "output_type": "execute_result"
    }
   ],
   "source": [
    "users_logging_one_exercise = set([fitbod_data.loc[fitbod_data.workoutId == _id].fakeUserId.values[0] for _id, exercises in workouts_to_exercises.items() if len(exercises) > 1])\n",
    "len(users)/fitbod_data.fakeUserId.nunique()"
   ]
  },
  {
   "cell_type": "markdown",
   "id": "42f859da",
   "metadata": {},
   "source": [
    "It appears that 99% of users have logged workouts that consist of only one workout. So, at least according to this dataset, single exercise workouts are a common occurance."
   ]
  },
  {
   "cell_type": "markdown",
   "id": "bb89c3c2",
   "metadata": {},
   "source": [
    "#### What exercises are making up these single exercise workouts?"
   ]
  },
  {
   "cell_type": "code",
   "execution_count": 90,
   "id": "727388c4",
   "metadata": {},
   "outputs": [
    {
     "data": {
      "text/plain": [
       "[('Back Squat', 154),\n",
       " ('Barbell Incline Bench Press', 129),\n",
       " ('Bent Over Barbell Row', 116),\n",
       " ('Leg Raise', 106),\n",
       " ('Dumbbell Rear Delt Raise', 91)]"
      ]
     },
     "execution_count": 90,
     "metadata": {},
     "output_type": "execute_result"
    }
   ],
   "source": [
    "exercises = list(workouts_to_exercises.values())\n",
    "single_exercises = list(map(lambda x: x.pop(), filter(lambda x: len(x) == 1, exercises)))\n",
    "counter = Counter(single_exercises)\n",
    "counter.most_common(5)"
   ]
  },
  {
   "cell_type": "markdown",
   "id": "1941f0a5",
   "metadata": {},
   "source": [
    "The most common single exercise is the `Back Squat` which is in a category of exercises known as \"Olympic lifts\" or \"Powerlifts\". It is reasonable to think that someone wanting to improve some aspect of their squat would only do that exercise as a part of a workout. However, the other exercises in the top 5 single exercise workouts as not \"Olympic lifts\" and I'm not sure why anyone would do, for example, a single set of `Leg Raise`. I would want to investigate this further, but it requires data beyond that in this dataset. Specifically, I'd want the following:\n",
    "* **Duration** of each workout in order to confirm that the timing makes sense with completing a single exercise. If too short or too long, it's a sign that something is abnormal.\n",
    "* **More entries** in order to determine if this is a small phenomenon with respect to *all* users.\n",
    "* **User interviews** would be beneficial, if all else checks out. Perhaps the users are using the app in a way that we don't current expect, but could work towards accomodating even better in the future"
   ]
  },
  {
   "cell_type": "markdown",
   "id": "18fae62c",
   "metadata": {},
   "source": [
    "#### What is the most logged exercise?"
   ]
  },
  {
   "cell_type": "code",
   "execution_count": 73,
   "id": "77a92fbe",
   "metadata": {},
   "outputs": [
    {
     "name": "stdout",
     "output_type": "stream",
     "text": [
      "Most logged exercise: Back Squat\n",
      "Least logged exercise: Kettlebell Pistol Squat\n"
     ]
    }
   ],
   "source": [
    "exercise_group = fitbod_data.groupby(by=\"exerciseName\").size()\n",
    "print(f\"Most logged exercise: {exercise_group.idxmax()}\")\n",
    "print(f\"Least logged exercise: {exercise_group.idxmin()}\")"
   ]
  },
  {
   "cell_type": "markdown",
   "id": "27dc4f9f",
   "metadata": {},
   "source": [
    "No surprise, `Back Squat` is the most logged exercise.\n",
    "\n",
    "Follow up questions: Why might the `Kettlebell Pistol Squat` be used so infrequently? Did the app just not suggest it to them very often or did users just not select it often?"
   ]
  },
  {
   "cell_type": "markdown",
   "id": "df743737",
   "metadata": {},
   "source": [
    "#### Since `Back Squat` is the most logged, in large part due to single exercise workouts, what is the second most logged exercise?"
   ]
  },
  {
   "cell_type": "code",
   "execution_count": 97,
   "id": "9a711716",
   "metadata": {},
   "outputs": [
    {
     "data": {
      "text/plain": [
       "'Leg Raise'"
      ]
     },
     "execution_count": 97,
     "metadata": {},
     "output_type": "execute_result"
    }
   ],
   "source": [
    "new_exercise_group = exercise_group.drop(exercise_group.idxmax())\n",
    "new_exercise_group.idxmax()"
   ]
  },
  {
   "cell_type": "markdown",
   "id": "f113740b",
   "metadata": {},
   "source": [
    "`Leg Raise` must be popular not only as a single exercise workout, but as a supplementary exercise in multi-exercise workouts, as well, because it takes second place."
   ]
  },
  {
   "cell_type": "markdown",
   "id": "db792c24",
   "metadata": {},
   "source": [
    "#### What are the most logged exercise pairings?"
   ]
  },
  {
   "cell_type": "code",
   "execution_count": 104,
   "id": "affb23d2",
   "metadata": {},
   "outputs": [
    {
     "data": {
      "text/plain": [
       "[(('Dumbbell Rear Delt Raise', 'Dumbbell Shoulder Raise'), 48),\n",
       " (('Decline Push Up', 'Tricep Push Up'), 38),\n",
       " (('Back Squat', 'Romanian Deadlift'), 31)]"
      ]
     },
     "execution_count": 104,
     "metadata": {},
     "output_type": "execute_result"
    }
   ],
   "source": [
    "exercise_pairs = defaultdict(int)\n",
    "for exercises in filter(lambda x: len(x) > 1, workouts_to_exercises.values()):\n",
    "    for combo in combinations(exercises, 2):\n",
    "        sorted_combo = sorted(combo)\n",
    "        exercise_pairs[(sorted_combo[0], sorted_combo[1])] += 1\n",
    "\n",
    "most_pairs = max(exercise_pairs.items(), key=lambda x: x[1])\n",
    "top_3_pairings = sorted(exercise_pairs.items(), key=lambda x: x[1], reverse=True)[:3]\n",
    "top_3_pairings"
   ]
  },
  {
   "cell_type": "markdown",
   "id": "502af3b4",
   "metadata": {},
   "source": [
    "The top three most logged pairings appear to be complementary in nature. `Back Squats` and `Romanian Deadlifts` as a pair is expected, as this is a pairing in Powerlifting [competitions](https://www.issaonline.com/blog/index.cfm/2021/beginners-guide-to-powerlifting-lifts-competitions-judges). The others seem to be grouped by muscle group being exercised, which is a common practice for lifting weights."
   ]
  },
  {
   "cell_type": "markdown",
   "id": "601f874f",
   "metadata": {},
   "source": [
    "### 2. User data"
   ]
  },
  {
   "cell_type": "markdown",
   "id": "1af1d929",
   "metadata": {},
   "source": [
    "#### Who is the most active user?"
   ]
  },
  {
   "cell_type": "code",
   "execution_count": 107,
   "id": "f106328c",
   "metadata": {},
   "outputs": [
    {
     "data": {
      "text/plain": [
       "'fake_id_550'"
      ]
     },
     "execution_count": 107,
     "metadata": {},
     "output_type": "execute_result"
    }
   ],
   "source": [
    "fbm[[\"workoutId\", \"fakeUserId\"]].groupby(by=\"fakeUserId\").count().idxmax().values[0]"
   ]
  },
  {
   "cell_type": "markdown",
   "id": "e1e6cca5",
   "metadata": {},
   "source": [
    "User `fake_id_550` is our most active user. I'd suggest sending them some free marketing materials (T-shirt, waterbottle) as an accomplishment and/or invite them to participate in testing out our beta features. We could do a blog post on `fake_id_550` (with their consent) to perhaps increase users' motivation to use the app often."
   ]
  },
  {
   "cell_type": "markdown",
   "id": "edc88c3f",
   "metadata": {},
   "source": [
    "####  Are users improving over time? \n",
    "For the purposes of this investigation \"improving\" will be equated to increasing the number of reps and or the number of weights for a certain exercise over time."
   ]
  },
  {
   "cell_type": "code",
   "execution_count": 370,
   "id": "ec01272f",
   "metadata": {},
   "outputs": [
    {
     "name": "stderr",
     "output_type": "stream",
     "text": [
      "/Users/jcummings/opt/miniconda3/lib/python3.7/site-packages/ipykernel_launcher.py:14: SettingWithCopyWarning: \n",
      "A value is trying to be set on a copy of a slice from a DataFrame.\n",
      "Try using .loc[row_indexer,col_indexer] = value instead\n",
      "\n",
      "See the caveats in the documentation: https://pandas.pydata.org/pandas-docs/stable/user_guide/indexing.html#returning-a-view-versus-a-copy\n",
      "  \n"
     ]
    },
    {
     "data": {
      "image/png": "[encoded data removed]",
      "text/plain": [
       "<Figure size 1440x720 with 2 Axes>"
      ]
     },
     "metadata": {
      "needs_background": "light"
     },
     "output_type": "display_data"
    }
   ],
   "source": [
    "def average_corr(corr):\n",
    "    return np.mean(list(filter(lambda x: not np.isnan(x), corr.values())))\n",
    "\n",
    "def get_correlations(df, exercise_column, time_column):\n",
    "    vc = {}\n",
    "    mc = {}\n",
    "    for exercise in set(df[exercise_column]):\n",
    "        user_data_for_cp = df.loc[df[exercise_column] == exercise]\n",
    "        max_weight = 0.0\n",
    "        all_max_weights = []\n",
    "        for _, row in user_data_for_cp.iterrows():\n",
    "            max_weight = max(row[\"weight\"], max_weight)\n",
    "            all_max_weights.append(max_weight)\n",
    "        user_data_for_cp[\"max_weight\"] = all_max_weights\n",
    "        mc[exercise] = user_data_for_cp[time_column].corr(user_data_for_cp.max_weight)\n",
    "        vc[exercise] = user_data_for_cp[time_column].corr(user_data_for_cp.volume)\n",
    "    return vc, mc\n",
    "\n",
    "\n",
    "all_correlations_volume = []\n",
    "all_correlations_max = []\n",
    "for user in set(fitbod_data.fakeUserId):\n",
    "    user_data = fitbod_data.loc[fitbod_data.fakeUserId == user].sort_values(by=\"date\")\n",
    "    user_data[\"volume\"] = user_data.reps * user_data.weight\n",
    "\n",
    "    volume_corr, max_corr = get_correlations(user_data, \"exerciseName\", \"month\")\n",
    "        \n",
    "    all_correlations_volume.append(average_corr(volume_corr))\n",
    "    all_correlations_max.append(average_corr(max_corr))\n",
    "\n",
    "fig, (ax1, ax2) = plt.subplots(1, 2, figsize=(20,10))\n",
    "ax1.hist(all_correlations_volume, bins=10)\n",
    "ax1.set_xlabel(\"Pearson correlation coefficient\")\n",
    "ax1.set_ylabel(\"Number of observations\")\n",
    "ax1.set_title(\"Volume & time correlation\")\n",
    "ax2.hist(all_correlations_max, bins=10)\n",
    "ax2.set_xlabel(\"Pearson correlation coefficient\")\n",
    "ax2.set_ylabel(\"Number of observations\")\n",
    "ax2.set_title(\"Max weight & time correlation\")\n",
    "ax2.set_xlim([-1, 1])\n",
    "plt.show()"
   ]
  },
  {
   "cell_type": "markdown",
   "id": "20fd8890",
   "metadata": {},
   "source": [
    "On average, there's no correlation between time and volume. There appears to be a stronger correlation between `max_weight` and time."
   ]
  },
  {
   "cell_type": "markdown",
   "id": "0297f7e2",
   "metadata": {},
   "source": [
    "### 3. Modeling "
   ]
  },
  {
   "cell_type": "markdown",
   "id": "68b500f0",
   "metadata": {},
   "source": [
    "As it was pointed out earlier, there is not a clear modeling task that could be derived from the dataset and perform with exceptional accuracy. However, I wanted to explore a very basic recommendation system based on the available data. For this, I made the following simplifying assumptions:\n",
    "* Exercise 1 and Exercise 2 are complementary if they exist in the same workout\n",
    "* Exercise 1 is the only factor that affects the determination of Exercise 2"
   ]
  },
  {
   "cell_type": "markdown",
   "id": "bfae3147",
   "metadata": {},
   "source": [
    "First, let's create a co-occurance matrix"
   ]
  },
  {
   "cell_type": "code",
   "execution_count": 231,
   "id": "33ed955d",
   "metadata": {},
   "outputs": [],
   "source": [
    "exercises = fitbod_data.exerciseName.unique()\n",
    "co_occur_matrix = {ex1: {ex2: 0. for ex2 in exercises} for ex1 in exercises}\n",
    "\n",
    "for workout, exs in workouts_to_exercises.items():\n",
    "    all_co_occur = permutations(exs, 2)\n",
    "    for perm in all_co_occur:\n",
    "        co_occur_matrix[perm[0]][perm[1]] += 1\n",
    "\n",
    "co_occur_pd = pd.DataFrame(np.array([list(v.values()) for v in co_occur_matrix.values()]), index=co_occur_matrix.keys(), columns=co_occur_matrix.keys())"
   ]
  },
  {
   "cell_type": "markdown",
   "id": "194c9c4c",
   "metadata": {},
   "source": [
    "The first naive recommendation system simply takes the largest value in the co-occurance matrix based on the exercise given to the function."
   ]
  },
  {
   "cell_type": "code",
   "execution_count": 242,
   "id": "40ce699f",
   "metadata": {},
   "outputs": [
    {
     "data": {
      "text/plain": [
       "'Tricep Push Up'"
      ]
     },
     "execution_count": 242,
     "metadata": {},
     "output_type": "execute_result"
    }
   ],
   "source": [
    "def naive_recommendation(first_exercise):\n",
    "    return co_occur_pd[first_exercise].idxmax()\n",
    "\n",
    "naive_recommendation(\"Decline Push Up\")"
   ]
  },
  {
   "cell_type": "markdown",
   "id": "1d81159f",
   "metadata": {},
   "source": [
    "The system recommends `Tricep Push Up`, which we know is logged many, many times in our dataset. To avoid almost always getting `Back Squat` or `Tricep Push Up`, we need to normalize the values by the amount of times they show up in the entire dataset. For this, I use the \"Jaccard\" similarity metric."
   ]
  },
  {
   "cell_type": "code",
   "execution_count": 241,
   "id": "fac8440d",
   "metadata": {},
   "outputs": [
    {
     "data": {
      "text/plain": [
       "'Floor Press'"
      ]
     },
     "execution_count": 241,
     "metadata": {},
     "output_type": "execute_result"
    }
   ],
   "source": [
    "# Jaccard similarity (i & j / i | j)\n",
    "co_occur_pd_jaccard = co_occur_pd.apply(lambda x: x/x.sum()).apply(lambda x: x/x.sum(), axis=1)\n",
    "\n",
    "def jaccard_recommendation(first_exercise):\n",
    "    return co_occur_pd_jaccard[first_exercise].idxmax()\n",
    "\n",
    "jaccard_recommendation(\"Decline Push Up\")"
   ]
  },
  {
   "cell_type": "markdown",
   "id": "e8655a6d",
   "metadata": {},
   "source": [
    "Great! Now we get another exercise that also works the Pectoral muscles, which means it's likely to be a good exercise to do alongside `Decline Push Up`. But what if we want to know what exercise to do after `Pull Up`s, which aren't currently listed in the dataset? I first check if the exercise is in the dataset and if not, I recommend the max value in the co-occurence matrix."
   ]
  },
  {
   "cell_type": "code",
   "execution_count": 259,
   "id": "10d6b138",
   "metadata": {},
   "outputs": [
    {
     "data": {
      "text/plain": [
       "'TRX Pulse Lunges'"
      ]
     },
     "execution_count": 259,
     "metadata": {},
     "output_type": "execute_result"
    }
   ],
   "source": [
    "# Cold start problem\n",
    "def cs_jaccard_recommendation(first_exercise):\n",
    "    if first_exercise not in co_occur_pd_jaccard.index:\n",
    "        return co_occur_pd_jaccard.max().idxmax()\n",
    "    return co_occur_pd_jaccard[first_exercise].idxmax()\n",
    "\n",
    "cs_jaccard_recommendation(\"Pull Up\")"
   ]
  },
  {
   "cell_type": "markdown",
   "id": "278093d2",
   "metadata": {},
   "source": [
    "The last problem to tackle is the issue of variability. A user likely does not want to *always* do `Floor Press` when they do `Decline Push Up`. Therefore, I add a little bit of noise to the measurements."
   ]
  },
  {
   "cell_type": "code",
   "execution_count": 269,
   "id": "b5cd3c39",
   "metadata": {},
   "outputs": [
    {
     "name": "stdout",
     "output_type": "stream",
     "text": [
      "Floor Press\n",
      "Floor Press\n",
      "Floor Press\n",
      "Floor Press\n",
      "Handle Band Pec Fly\n",
      "Floor Press\n",
      "Floor Press\n",
      "Floor Press\n",
      "Floor Press\n",
      "Floor Press\n"
     ]
    }
   ],
   "source": [
    "# No variation\n",
    "def recommendation(first_exercise, noise=0.01):\n",
    "    new_pd = co_occur_pd_jaccard.apply(lambda x: x + np.random.uniform(low=-noise, high=noise), axis=1)\n",
    "    if first_exercise not in new_pd.index:\n",
    "        return new_pd.max().idxmax()\n",
    "    return new_pd[first_exercise].idxmax()\n",
    "\n",
    "for i in range(10):\n",
    "    print(recommendation(\"Decline Push Up\"))"
   ]
  },
  {
   "cell_type": "markdown",
   "id": "241abd29",
   "metadata": {},
   "source": [
    "Viola! We now have a very basic exercise recommendation system. Some potential improvements are as follows:\n",
    "* User data: Currently we know nothing about the users' characteristics or their workout goals. By ingesting this information, we could recommend workouts also based on similar users.\n",
    "* Using more exercises as a starting point: The assumption that only one exercise affects the exercise recommended was used to simplify the experiment, but is not indicative of a real-world experience.\n",
    "* More data"
   ]
  },
  {
   "cell_type": "markdown",
   "id": "cd1c2f84",
   "metadata": {},
   "source": [
    "***\n",
    "### Looking at my own data"
   ]
  },
  {
   "cell_type": "code",
   "execution_count": 371,
   "id": "c143ed9d",
   "metadata": {},
   "outputs": [],
   "source": [
    "joe_data = pd.read_csv(\"WorkoutExport.csv\", parse_dates=[\"Date\"])"
   ]
  },
  {
   "cell_type": "markdown",
   "id": "2b2cf069",
   "metadata": {},
   "source": [
    "Looks like my data is structured a little differently"
   ]
  },
  {
   "cell_type": "code",
   "execution_count": 372,
   "id": "27b55a63",
   "metadata": {},
   "outputs": [],
   "source": [
    "joe_data[\"volume\"] = joe_data.Reps * joe_data[\"Weight(kg)\"]\n",
    "joe_data = joe_data.rename(columns={\"Weight(kg)\": \"weight\"})\n",
    "joe_data[\"month\"] = joe_data.Date.dt.month\n",
    "joe_data[\"date_as_int\"] = joe_data.Date.astype(np.int64) #joe_data.Date.astype(\"int\") / 10**9"
   ]
  },
  {
   "cell_type": "markdown",
   "id": "7145da57",
   "metadata": {},
   "source": [
    "Let's see how I've been improving over time..."
   ]
  },
  {
   "cell_type": "code",
   "execution_count": 373,
   "id": "a7a7c046",
   "metadata": {},
   "outputs": [
    {
     "name": "stderr",
     "output_type": "stream",
     "text": [
      "/Users/jcummings/opt/miniconda3/lib/python3.7/site-packages/ipykernel_launcher.py:14: SettingWithCopyWarning: \n",
      "A value is trying to be set on a copy of a slice from a DataFrame.\n",
      "Try using .loc[row_indexer,col_indexer] = value instead\n",
      "\n",
      "See the caveats in the documentation: https://pandas.pydata.org/pandas-docs/stable/user_guide/indexing.html#returning-a-view-versus-a-copy\n",
      "  \n"
     ]
    },
    {
     "data": {
      "image/png": "[encoded data removed]",
      "text/plain": [
       "<Figure size 1440x720 with 2 Axes>"
      ]
     },
     "metadata": {
      "needs_background": "light"
     },
     "output_type": "display_data"
    }
   ],
   "source": [
    "joe_volume_corr, joe_max_corr = get_correlations(joe_data.sort_values(by=\"Date\"), \"Exercise\", \"date_as_int\")\n",
    "\n",
    "joe_all_correlations_volume = list(filter(lambda x: not np.isnan(x), joe_volume_corr.values()))\n",
    "joe_all_correlations_max = list(filter(lambda x: not np.isnan(x), joe_max_corr.values()))\n",
    "\n",
    "fig, (ax1, ax2) = plt.subplots(1, 2, figsize=(20,10))\n",
    "ax1.hist(joe_all_correlations_volume, bins=10)\n",
    "ax1.set_xlabel(\"Pearson correlation coefficient\")\n",
    "ax1.set_ylabel(\"Number of observations\")\n",
    "ax1.set_title(\"Volume & time correlation\")\n",
    "ax2.hist(joe_all_correlations_max, bins=10)\n",
    "ax2.set_xlabel(\"Pearson correlation coefficient\")\n",
    "ax2.set_ylabel(\"Number of observations\")\n",
    "ax2.set_title(\"Max weight & time correlation\")\n",
    "ax2.set_xlim([-1, 1])\n",
    "plt.show()"
   ]
  },
  {
   "cell_type": "markdown",
   "id": "70db4702",
   "metadata": {},
   "source": [
    "Oof, looks like the pandemic really had an affect on my exercise improvement. Maybe I should get to a gym in 2022."
   ]
  }
 ],
 "metadata": {
  "kernelspec": {
   "display_name": "Python 3",
   "language": "python",
   "name": "python3"
  },
  "language_info": {
   "codemirror_mode": {
    "name": "ipython",
    "version": 3
   },
   "file_extension": ".py",
   "mimetype": "text/x-python",
   "name": "python",
   "nbconvert_exporter": "python",
   "pygments_lexer": "ipython3",
   "version": "3.7.6"
  }
 },
 "nbformat": 4,
 "nbformat_minor": 5
}
